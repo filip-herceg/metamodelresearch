{
 "cells": [
  {
   "cell_type": "markdown",
   "source": [
    "# Meta Learning with Pytorch Lightning"
   ],
   "metadata": {
    "collapsed": false
   }
  },
  {
   "cell_type": "markdown",
   "source": [
    "## Imports"
   ],
   "metadata": {
    "collapsed": false
   }
  },
  {
   "cell_type": "code",
   "execution_count": 1,
   "outputs": [],
   "source": [
    "from data_loaders.mnist_loaders import get_mnist_loaders\n",
    "from models.meta.MetaModel import MetaModel"
   ],
   "metadata": {
    "collapsed": false
   }
  },
  {
   "cell_type": "markdown",
   "source": [
    "## Load training data and validation sets"
   ],
   "metadata": {
    "collapsed": false
   }
  },
  {
   "cell_type": "code",
   "execution_count": 2,
   "outputs": [],
   "source": [
    "train_loader, val_loader = get_mnist_loaders(batch_size=64, num_workers=0)[:2]"
   ],
   "metadata": {
    "collapsed": false
   }
  },
  {
   "cell_type": "markdown",
   "source": [
    "## Define I/O shapes and config"
   ],
   "metadata": {
    "collapsed": false
   }
  },
  {
   "cell_type": "code",
   "execution_count": 3,
   "outputs": [],
   "source": [
    "input_shape = (1, 28, 28)\n",
    "output_shape = 10\n",
    "max_layers = 5\n",
    "n_calls = 5"
   ],
   "metadata": {
    "collapsed": false
   }
  },
  {
   "cell_type": "markdown",
   "source": [
    "## Instantiate MetaModel"
   ],
   "metadata": {
    "collapsed": false
   }
  },
  {
   "cell_type": "code",
   "execution_count": 4,
   "outputs": [
    {
     "ename": "TypeError",
     "evalue": "get_available_layer_types() takes 0 positional arguments but 1 was given",
     "output_type": "error",
     "traceback": [
      "\u001B[1;31m---------------------------------------------------------------------------\u001B[0m",
      "\u001B[1;31mTypeError\u001B[0m                                 Traceback (most recent call last)",
      "Cell \u001B[1;32mIn[4], line 1\u001B[0m\n\u001B[1;32m----> 1\u001B[0m model \u001B[38;5;241m=\u001B[39m \u001B[43mMetaModel\u001B[49m\u001B[43m(\u001B[49m\u001B[43minput_shape\u001B[49m\u001B[43m,\u001B[49m\u001B[43m \u001B[49m\u001B[43moutput_shape\u001B[49m\u001B[43m,\u001B[49m\u001B[43m \u001B[49m\u001B[43mtrain_loader\u001B[49m\u001B[43m,\u001B[49m\u001B[43m \u001B[49m\u001B[43mval_loader\u001B[49m\u001B[43m,\u001B[49m\u001B[43m \u001B[49m\u001B[43mmax_layers\u001B[49m\u001B[38;5;241;43m=\u001B[39;49m\u001B[43mmax_layers\u001B[49m\u001B[43m,\u001B[49m\u001B[43m \u001B[49m\u001B[43mn_calls\u001B[49m\u001B[38;5;241;43m=\u001B[39;49m\u001B[43mn_calls\u001B[49m\u001B[43m)\u001B[49m\n",
      "File \u001B[1;32m~\\PycharmProjects\\MachineLearning\\metamodelresearch\\models\\meta\\MetaModel.py:44\u001B[0m, in \u001B[0;36mMetaModel.__init__\u001B[1;34m(self, input_shape, output_shape, train_loader, val_loader, max_layers, n_calls, search_space, verbosity)\u001B[0m\n\u001B[0;32m     41\u001B[0m \u001B[38;5;28mself\u001B[39m\u001B[38;5;241m.\u001B[39mverbosity \u001B[38;5;241m=\u001B[39m verbosity\n\u001B[0;32m     43\u001B[0m \u001B[38;5;28;01mif\u001B[39;00m search_space \u001B[38;5;129;01mis\u001B[39;00m \u001B[38;5;28;01mNone\u001B[39;00m:\n\u001B[1;32m---> 44\u001B[0m     \u001B[38;5;28mself\u001B[39m\u001B[38;5;241m.\u001B[39msearch_space \u001B[38;5;241m=\u001B[39m \u001B[38;5;28;43mself\u001B[39;49m\u001B[38;5;241;43m.\u001B[39;49m\u001B[43mcreate_layer_space\u001B[49m\u001B[43m(\u001B[49m\u001B[43mmax_layers\u001B[49m\u001B[43m)\u001B[49m\n\u001B[0;32m     45\u001B[0m \u001B[38;5;28;01melse\u001B[39;00m:\n\u001B[0;32m     46\u001B[0m     \u001B[38;5;28mself\u001B[39m\u001B[38;5;241m.\u001B[39msearch_space \u001B[38;5;241m=\u001B[39m search_space\n",
      "File \u001B[1;32m~\\PycharmProjects\\MachineLearning\\metamodelresearch\\models\\meta\\MetaModel.py:81\u001B[0m, in \u001B[0;36mMetaModel.create_layer_space\u001B[1;34m(self, num_layers, activation_functions)\u001B[0m\n\u001B[0;32m     78\u001B[0m \u001B[38;5;28;01mif\u001B[39;00m activation_functions \u001B[38;5;129;01mis\u001B[39;00m \u001B[38;5;28;01mNone\u001B[39;00m:\n\u001B[0;32m     79\u001B[0m     activation_functions \u001B[38;5;241m=\u001B[39m [\u001B[38;5;124m'\u001B[39m\u001B[38;5;124mrelu\u001B[39m\u001B[38;5;124m'\u001B[39m, \u001B[38;5;124m'\u001B[39m\u001B[38;5;124msigmoid\u001B[39m\u001B[38;5;124m'\u001B[39m, \u001B[38;5;124m'\u001B[39m\u001B[38;5;124mtanh\u001B[39m\u001B[38;5;124m'\u001B[39m]\n\u001B[1;32m---> 81\u001B[0m layer_types \u001B[38;5;241m=\u001B[39m \u001B[43mget_available_layer_types\u001B[49m\u001B[43m(\u001B[49m\u001B[43mget_layer\u001B[49m\u001B[43m)\u001B[49m\n\u001B[0;32m     83\u001B[0m space \u001B[38;5;241m=\u001B[39m {\n\u001B[0;32m     84\u001B[0m     \u001B[38;5;124m'\u001B[39m\u001B[38;5;124mlayer_types\u001B[39m\u001B[38;5;124m'\u001B[39m: layer_types,\n\u001B[0;32m     85\u001B[0m     \u001B[38;5;124m'\u001B[39m\u001B[38;5;124mactivation_functions\u001B[39m\u001B[38;5;124m'\u001B[39m: activation_functions\n\u001B[0;32m     86\u001B[0m }\n\u001B[0;32m     88\u001B[0m \u001B[38;5;28;01mreturn\u001B[39;00m space\n",
      "\u001B[1;31mTypeError\u001B[0m: get_available_layer_types() takes 0 positional arguments but 1 was given"
     ]
    }
   ],
   "source": [
    "model = MetaModel(input_shape, output_shape, train_loader, val_loader, max_layers=max_layers, n_calls=n_calls)"
   ],
   "metadata": {
    "collapsed": false
   }
  },
  {
   "cell_type": "markdown",
   "source": [
    "# Optimize the model's architecture"
   ],
   "metadata": {
    "collapsed": false
   }
  },
  {
   "cell_type": "code",
   "execution_count": null,
   "outputs": [],
   "source": [
    "best_params = model.optimize()"
   ],
   "metadata": {
    "collapsed": false
   }
  },
  {
   "cell_type": "markdown",
   "source": [
    "# Create the best model from the best_params"
   ],
   "metadata": {
    "collapsed": false
   }
  },
  {
   "cell_type": "code",
   "execution_count": null,
   "outputs": [],
   "source": [
    "best_model = model.generate_model(best_params)"
   ],
   "metadata": {
    "collapsed": false
   }
  },
  {
   "cell_type": "markdown",
   "source": [
    "# Train the best model"
   ],
   "metadata": {
    "collapsed": false
   }
  },
  {
   "cell_type": "code",
   "execution_count": null,
   "outputs": [],
   "source": [
    "model.train_model(best_model)"
   ],
   "metadata": {
    "collapsed": false
   }
  },
  {
   "cell_type": "markdown",
   "source": [
    "# Save the best metamodel checkpoint"
   ],
   "metadata": {
    "collapsed": false
   }
  },
  {
   "cell_type": "code",
   "execution_count": null,
   "outputs": [],
   "source": [
    "import os\n",
    "\n",
    "if not os.path.exists(\"checkpoints\"):\n",
    "    os.makedirs(\"checkpoints\")\n",
    "model.save(\"checkpoints/best_metamodel.pth\")"
   ],
   "metadata": {
    "collapsed": false
   }
  },
  {
   "cell_type": "code",
   "execution_count": null,
   "outputs": [],
   "source": [],
   "metadata": {
    "collapsed": false
   }
  }
 ],
 "metadata": {
  "kernelspec": {
   "display_name": "Python 3",
   "language": "python",
   "name": "python3"
  },
  "language_info": {
   "codemirror_mode": {
    "name": "ipython",
    "version": 2
   },
   "file_extension": ".py",
   "mimetype": "text/x-python",
   "name": "python",
   "nbconvert_exporter": "python",
   "pygments_lexer": "ipython2",
   "version": "2.7.6"
  }
 },
 "nbformat": 4,
 "nbformat_minor": 0
}
